{
  "nbformat": 4,
  "nbformat_minor": 0,
  "metadata": {
    "colab": {
      "name": "Untitled3.ipynb",
      "provenance": [],
      "collapsed_sections": [],
      "authorship_tag": "ABX9TyOC6XeI6PUtCszZuAs546qb",
      "include_colab_link": true
    },
    "kernelspec": {
      "name": "python3",
      "display_name": "Python 3"
    },
    "language_info": {
      "name": "python"
    }
  },
  "cells": [
    {
      "cell_type": "markdown",
      "metadata": {
        "id": "view-in-github",
        "colab_type": "text"
      },
      "source": [
        "<a href=\"https://colab.research.google.com/github/moji-moji-idn/DS_Assignment/blob/main/Untitled3.ipynb\" target=\"_parent\"><img src=\"https://colab.research.google.com/assets/colab-badge.svg\" alt=\"Open In Colab\"/></a>"
      ]
    },
    {
      "cell_type": "code",
      "execution_count": 8,
      "metadata": {
        "colab": {
          "base_uri": "https://localhost:8080/"
        },
        "id": "ayW7aD4SSIps",
        "outputId": "b27e8d1a-7f81-49f5-d80c-b6b91fc83e47"
      },
      "outputs": [
        {
          "output_type": "stream",
          "name": "stdout",
          "text": [
            "검색어를 입력하세요: 월드컵\n",
            "[2022-05-10 15:21:14.354106] Url Request Success\n",
            "[2022-05-10 15:21:15.744559] Url Request Success\n",
            "[2022-05-10 15:21:16.925008] Url Request Success\n",
            "[2022-05-10 15:21:18.037491] Url Request Success\n",
            "[2022-05-10 15:21:19.201465] Url Request Success\n",
            "[2022-05-10 15:21:20.390883] Url Request Success\n",
            "[2022-05-10 15:21:21.493738] Url Request Success\n",
            "[2022-05-10 15:21:22.885585] Url Request Success\n",
            "[2022-05-10 15:21:24.106732] Url Request Success\n",
            "[2022-05-10 15:21:25.262926] Url Request Success\n",
            "HTTP Error 400: Bad Request\n",
            "[2022-05-10 15:21:26.355230] Error for URL : https://openapi.naver.com/v1/search/news.json?query=%EC%9B%94%EB%93%9C%EC%BB%B5&start=1001&display=100\n",
            "전체 검색 : 2414157 건\n",
            "가져온 데이터 : 1000 건\n",
            "월드컵_naver_news.json SAVED\n"
          ]
        }
      ],
      "source": [
        "import os\n",
        "import sys\n",
        "import urllib.request\n",
        "import datetime\n",
        "import time\n",
        "import json\n",
        "\n",
        "client_id = 'iBUtT4iDwTyF55UQEwgR'\n",
        "client_secret = 'IswASCpG6Q'\n",
        "\n",
        "\n",
        "#[CODE 1]\n",
        "def getRequestUrl(url):    \n",
        "    req = urllib.request.Request(url)\n",
        "    req.add_header(\"X-Naver-Client-Id\", client_id)\n",
        "    req.add_header(\"X-Naver-Client-Secret\", client_secret)\n",
        "    \n",
        "    try: \n",
        "        response = urllib.request.urlopen(req)\n",
        "        if response.getcode() == 200:\n",
        "            print (\"[%s] Url Request Success\" % datetime.datetime.now())\n",
        "            return response.read().decode('utf-8')\n",
        "    except Exception as e:\n",
        "        print(e)\n",
        "        print(\"[%s] Error for URL : %s\" % (datetime.datetime.now(), url))\n",
        "        return None\n",
        "\n",
        "#[CODE 2]\n",
        "def getNaverSearch(node, srcText, start, display):    \n",
        "    base = \"https://openapi.naver.com/v1/search\"\n",
        "    node = \"/%s.json\" % node\n",
        "    parameters = \"?query=%s&start=%s&display=%s\" % (urllib.parse.quote(srcText), start, display)\n",
        "    \n",
        "    url = base + node + parameters    \n",
        "    responseDecode = getRequestUrl(url)   #[CODE 1]\n",
        "    \n",
        "    if (responseDecode == None):\n",
        "        return None\n",
        "    else:\n",
        "        return json.loads(responseDecode)\n",
        "\n",
        "#[CODE 3]\n",
        "def getPostData(post, jsonResult, cnt):    \n",
        "    title = post['title']\n",
        "    description = post['description']\n",
        "    org_link = post['originallink']\n",
        "    link = post['link']\n",
        "    \n",
        "    pDate = datetime.datetime.strptime(post['pubDate'],  '%a, %d %b %Y %H:%M:%S +0900')\n",
        "    pDate = pDate.strftime('%Y-%m-%d %H:%M:%S')\n",
        "    \n",
        "    jsonResult.append({'cnt':cnt, 'title':title, 'description': description, \n",
        "'org_link':org_link,   'link': org_link,   'pDate':pDate})\n",
        "    return    \n",
        "\n",
        "#[CODE 0]\n",
        "def main():\n",
        "    node = 'news'   # 크롤링 할 대상\n",
        "    srcText = input('검색어를 입력하세요: ')\n",
        "    cnt = 0\n",
        "    jsonResult = []\n",
        "\n",
        "    jsonResponse = getNaverSearch(node, srcText, 1, 100)  #[CODE 2]\n",
        "    total = jsonResponse['total']\n",
        " \n",
        "    while ((jsonResponse != None) and (jsonResponse['display'] != 0)):         \n",
        "        for post in jsonResponse['items']:\n",
        "            cnt += 1\n",
        "            getPostData(post, jsonResult, cnt)  #[CODE 3]       \n",
        "        \n",
        "        start = jsonResponse['start'] + jsonResponse['display']\n",
        "        jsonResponse = getNaverSearch(node, srcText, start, 100)  #[CODE 2]\n",
        "       \n",
        "    print('전체 검색 : %d 건' %total)\n",
        "    \n",
        "    with open('%s_naver_%s.json' % (srcText, node), 'w', encoding='utf8') as outfile:\n",
        "        jsonFile = json.dumps(jsonResult,  indent=4, sort_keys=True,  ensure_ascii=False)\n",
        "                        \n",
        "        outfile.write(jsonFile)\n",
        "        \n",
        "    print(\"가져온 데이터 : %d 건\" %(cnt))\n",
        "    print ('%s_naver_%s.json SAVED' % (srcText, node))\n",
        "    \n",
        "if __name__ == '__main__':\n",
        "    main()\n"
      ]
    }
  ]
}